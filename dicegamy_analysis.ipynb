{
 "cells": [
  {
   "cell_type": "code",
   "execution_count": 8,
   "metadata": {},
   "outputs": [
    {
     "name": "stdout",
     "output_type": "stream",
     "text": [
      "6\n",
      "[5, 6, 1, 3, 3]\n",
      "{2: 2, 4: 3}\n",
      "10\n",
      "List of roll dice times: {10: 2466803, 25: 721743, 20: 1467302, 0: 1317147, 15: 1851724, 5: 1647131, 35: 115569, 30: 366346, 40: 38442, 45: 6518, 50: 1275}\n"
     ]
    },
    {
     "data": {
      "image/png": "[encoded data removed]",
      "text/plain": [
       "<Figure size 432x288 with 1 Axes>"
      ]
     },
     "metadata": {
      "needs_background": "light"
     },
     "output_type": "display_data"
    }
   ],
   "source": [
    "from ast import While\n",
    "import random\n",
    "from time import clock_getres\n",
    "import matplotlib.pyplot as plt\n",
    "\n",
    "\n",
    "def rollDice():\n",
    "    return random.randrange(1, 7)\n",
    "\n",
    "\n",
    "print(rollDice())\n",
    "\n",
    "\n",
    "def fiveRollDice():\n",
    "    r1 = rollDice()\n",
    "    r2 = rollDice()\n",
    "    r3 = rollDice()\n",
    "    r4 = rollDice()\n",
    "    r5 = rollDice()\n",
    "    return [r1, r2, r3, r4, r5]\n",
    "\n",
    "\n",
    "print(fiveRollDice())\n",
    "\n",
    "\n",
    "def countDice():\n",
    "    counter = {}\n",
    "    for dice in fiveRollDice():\n",
    "        if dice in counter:\n",
    "            counter[dice] = counter[dice] + 1\n",
    "        else:\n",
    "            counter[dice] = 1\n",
    "    return counter\n",
    "\n",
    "\n",
    "print(countDice())\n",
    "\n",
    "\n",
    "def checkWinDice():\n",
    "    con = countDice()\n",
    "    w1 = 1\n",
    "    w5 = 5\n",
    "    if w1 in con:\n",
    "        countw1 = con[w1]\n",
    "        balls1 = countw1 * 10\n",
    "    else:\n",
    "        balls1 = 0\n",
    "    if w5 in con:\n",
    "        countw5 = con[w5]\n",
    "        balls5 = countw5 * 5\n",
    "    else:\n",
    "        balls5 = 0\n",
    "\n",
    "    balls = balls1 + balls5\n",
    "    return balls\n",
    "\n",
    "\n",
    "print(checkWinDice())\n",
    "\n",
    "\n",
    "def calcVar(iterations):\n",
    "    count = iterations\n",
    "    end = 0\n",
    "    listDice = list()\n",
    "    while count != end:\n",
    "        listDice.append(checkWinDice())\n",
    "        count -= 1\n",
    "    return listDice\n",
    "\n",
    "\n",
    "resultvar = calcVar(10000000)\n",
    "\n",
    "\n",
    "def countVar(resultvar):\n",
    "    numvar = dict()\n",
    "    for key in resultvar:\n",
    "        if key in numvar:\n",
    "            numvar[key] += 1\n",
    "        else:\n",
    "            numvar[key] = 1\n",
    "    return numvar\n",
    "\n",
    "\n",
    "checked_result = countVar(resultvar=resultvar)\n",
    "print(f\"List of roll dice times: {checked_result}\")\n",
    "\n",
    "\n",
    "def resultForPlot(checked_result):\n",
    "    a = []\n",
    "    b = []\n",
    "    for key, value in checked_result.items():\n",
    "        a.append(key)\n",
    "        b.append(value)\n",
    "    return a, b\n",
    "\n",
    "\n",
    "forplot = resultForPlot(checked_result=checked_result)\n",
    "\n",
    "myplot = plt.plot(forplot[1], forplot[0])\n",
    "\n"
   ]
  }
 ],
 "metadata": {
  "kernelspec": {
   "display_name": "Python 3.9.2 ('venv': venv)",
   "language": "python",
   "name": "python3"
  },
  "language_info": {
   "codemirror_mode": {
    "name": "ipython",
    "version": 3
   },
   "file_extension": ".py",
   "mimetype": "text/x-python",
   "name": "python",
   "nbconvert_exporter": "python",
   "pygments_lexer": "ipython3",
   "version": "3.9.2"
  },
  "orig_nbformat": 4,
  "vscode": {
   "interpreter": {
    "hash": "a2a7140858fd61f1ea4287044a892d39da715ab148dfb34b94e97929ac33de2d"
   }
  }
 },
 "nbformat": 4,
 "nbformat_minor": 2
}
